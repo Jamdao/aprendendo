{
 "cells": [
  {
   "cell_type": "code",
   "execution_count": 34,
   "id": "b031ac8d",
   "metadata": {},
   "outputs": [
    {
     "name": "stdout",
     "output_type": "stream",
     "text": [
      "digite seu nome: José Antônio\n",
      "digite seu endereço: Rua México 180\n",
      "digite seu bairro: Copacabana\n",
      "digite sua cidade: Belo Horizonte\n",
      "digite seu telefone: (31) 99999-9999\n",
      "digite seu email: jose@antonio.com\n",
      "digite seu estado civíl: casado\n",
      "digite a sua idade: 40\n",
      "digite seu objetivo na empresa: Trabalhar com programação em Python\n",
      "digite seu curso: Python\n",
      "digite a instituição: Empowerdata\n",
      "digite o ano de conclusão: 2023\n"
     ]
    }
   ],
   "source": [
    "nome = input(\"digite seu nome: \")\n",
    "endereco = input(\"digite seu endereço: \")\n",
    "bairro = input(\"digite seu bairro: \")\n",
    "cidade = input(\"digite sua cidade: \")\n",
    "telefone = input(\"digite seu telefone: \")\n",
    "email= input(\"digite seu email: \")\n",
    "estado_civil = input(\"digite seu estado civíl: \")\n",
    "idade = input(\"digite a sua idade: \")\n",
    "objetivo = input(\"digite seu objetivo na empresa: \")\n",
    "curso = input(\"digite seu curso: \")\n",
    "instituicao = input(\"digite a instituição: \")\n",
    "ano = input(\"digite o ano de conclusão: \")"
   ]
  },
  {
   "cell_type": "code",
   "execution_count": 33,
   "id": "956cd6f0",
   "metadata": {},
   "outputs": [],
   "source": [
    "from fpdf import FPDF"
   ]
  },
  {
   "cell_type": "code",
   "execution_count": 38,
   "id": "2c46e505",
   "metadata": {},
   "outputs": [],
   "source": [
    "pdf = FPDF()\n",
    "pdf.add_page()\n",
    "pdf.set_font(\"arial\")"
   ]
  },
  {
   "cell_type": "code",
   "execution_count": 39,
   "id": "44cea9f9",
   "metadata": {},
   "outputs": [],
   "source": [
    "pdf.image(\"folhas.jpg\", x=0, y=0)\n",
    "pdf.text(30, 44, nome)\n",
    "pdf.text(35, 55, endereco)\n",
    "pdf.text(30, 66, bairro)\n",
    "pdf.text(137, 66, cidade)\n",
    "pdf.text(35, 77, telefone)\n",
    "pdf.text(137, 77, email)\n",
    "pdf.text(40, 88, estado_civil)\n",
    "pdf.text(135, 88, idade)\n",
    "pdf.text(13, 111, objetivo)\n",
    "pdf.text( 27, 134, curso)\n",
    "pdf.text(38, 145, instituicao)\n",
    "pdf.text(54, 156, ano)\n"
   ]
  },
  {
   "cell_type": "code",
   "execution_count": 40,
   "id": "d97c768a",
   "metadata": {},
   "outputs": [
    {
     "name": "stdout",
     "output_type": "stream",
     "text": [
      "curriculo gerado com sucesso\n"
     ]
    }
   ],
   "source": [
    "pdf.output(\"curriculo.pdf\")\n",
    "print (\"curriculo gerado com sucesso\")"
   ]
  }
 ],
 "metadata": {
  "kernelspec": {
   "display_name": "Python 3 (ipykernel)",
   "language": "python",
   "name": "python3"
  },
  "language_info": {
   "codemirror_mode": {
    "name": "ipython",
    "version": 3
   },
   "file_extension": ".py",
   "mimetype": "text/x-python",
   "name": "python",
   "nbconvert_exporter": "python",
   "pygments_lexer": "ipython3",
   "version": "3.9.13"
  }
 },
 "nbformat": 4,
 "nbformat_minor": 5
}
